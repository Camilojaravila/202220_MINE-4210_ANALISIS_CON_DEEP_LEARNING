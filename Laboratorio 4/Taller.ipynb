{
  "nbformat": 4,
  "nbformat_minor": 0,
  "metadata": {
    "colab": {
      "provenance": [],
      "authorship_tag": "ABX9TyOjGLvJZgx1cjujXr8g8uFT",
      "include_colab_link": true
    },
    "kernelspec": {
      "name": "python3",
      "display_name": "Python 3"
    },
    "language_info": {
      "name": "python"
    }
  },
  "cells": [
    {
      "cell_type": "markdown",
      "metadata": {
        "id": "view-in-github",
        "colab_type": "text"
      },
      "source": [
        "<a href=\"https://colab.research.google.com/github/Camilojaravila/202220_MINE-4210_ANALISIS_CON_DEEP_LEARNING/blob/main/Laboratorio%204/Taller.ipynb\" target=\"_parent\"><img src=\"https://colab.research.google.com/assets/colab-badge.svg\" alt=\"Open In Colab\"/></a>"
      ]
    },
    {
      "cell_type": "markdown",
      "source": [
        "![image](https://docs.google.com/uc?export=download&id=1NUy1Q-abpoV9XYK9qT9t8Mdhj3ZVlveO)"
      ],
      "metadata": {
        "id": "znKNaJnn_ipc"
      }
    },
    {
      "cell_type": "markdown",
      "metadata": {
        "id": "NkCYoS7vchGU"
      },
      "source": [
        "\n",
        "# **Taller 4**\n",
        "\n",
        "La generación de imágenes ha sido una de las grandes tendencias que ha traido las Redes Neuronales Generativas, la cual nos permite abstraer una población y generar una muestra de ello. Para entender el comportamiento de estas redes, la idea es utilizar otro tipo de Redes Neuronales Generativas y revisar el comportamiento de generación de imágenes bajo el mismo conjunto de datos.\n",
        "\n",
        "Para ello, en este taller deben:\n",
        "* Realizar la lectura de los datos del Laboratorio 4.\n",
        "* Realizar la arquitectura de las **Redes Generativas Antagonicas (GAN)** como generador de imágenes.\n",
        "* Realizar la prueba con tres redes construidas por ustedes (con diferentes hiperparámetros o espacios latentes).\n",
        "* Realizar el gráfico con ejemplos mostrando la generación de las imágenes a través del vector del espacio latente.\n",
        "* Realizar el despliegue del servicio que genere una imagen aleatoria. Para esto, puede utilizar cualquiera de las técnicas mostradas en el laboratorio (Streamlit Cloud, Heroku o un proveedor de una instancia de Cloud). O utilizar cualquier otro servicio que considere adecuado. \n",
        "* **Es importante que dentro del Notebook a entregar se encuentre el link con el servicio desplegado para poder revisar el laboratorio. Si por alguna razón el despliegue les genera algún costo adicional, se pueden contactar conmigo para revisarlo inmediatamente y no les genere algún gasto.**\n",
        "\n",
        "**Nota**: Para este taller no es necesario hacer la búsqueda de hiperparámetros\n",
        "\n",
        "Datos: Fashion MNIST"
      ]
    },
    {
      "cell_type": "code",
      "source": [],
      "metadata": {
        "id": "LZCJwxy8Pbjd"
      },
      "execution_count": null,
      "outputs": []
    }
  ]
}